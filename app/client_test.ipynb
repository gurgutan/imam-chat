{
 "cells": [
  {
   "cell_type": "code",
   "execution_count": null,
   "id": "4c06f86e",
   "metadata": {},
   "outputs": [],
   "source": [
    "%pip install langchain -q"
   ]
  },
  {
   "cell_type": "code",
   "execution_count": 2,
   "id": "ce39d358-1934-4404-bd3e-3fd497974aff",
   "metadata": {},
   "outputs": [
    {
     "data": {
      "text/plain": [
       "'\\n\\nAccording to Islamic Shari\\'ah, a man is allowed to have up to four wives simultaneously, provided that he is able to treat all of them equally and justly without causing any infringement of their rights. This rule is based on the Qur\\'anic verses 4:3 and 4:24, which state that \"Marry such women as seem good to you\" (4:3), and that \"You are allowed to marry one wife or three\" (4:24).\\n\\nHowever, it is important to note that having more than one wife is not a requirement or a prerequisite for attaining spiritual or moral perfection in Islam. Rather, it is a matter of personal choice and preference, which should be exercised in accordance with the principles of justice, equality, and fairness enshrined in the Islamic Shari\\'ah.\\n\\nTherefore, if you are considering getting married, you should first reflect on your personal circumstances, financial situation, and ability to treat all potential wives equally and justly without causing any infringement of their rights. If you are unsure about any aspect of this matter, you should seek the advice and guidance of a qualified Islamic scholar or religious leader in your community or locality.\\n\\n=================\\n\\n[1] Qu\\'ran (4:24).\\n[2] Mufti Muhammad Shafi. Maarif-ul-Quran. Qu\\'ran (4:3).\\n[3] Mufti Muhammad Shafi. Maarif-ul-Quran. Qu\\'ran (4:3).\\n[4] Mufti Muhammad Shafi. Maarif-ul-Quran. Qu\\'ran (4:3).\\n\\n=================\\n\\nIslamic Shari\\'ah allows a man to have up to four wives simultaneously, provided that he is able to treat all of them equally and justly without causing any infringement of their rights. This rule is based on the Qur\\'anic verses 4:3 and 4:24, which state that \"Marry such women as seem good to you\" (4:3), and that \"You are allowed to marry one wife or three\" (4:24).\\n\\nHowever, it is important to note that having more than one wife is not a requirement or a prerequisite for attaining spiritual or moral perfection in Islam. Rather, it is a matter of personal choice and preference, which should be exercised in accordance with the principles of justice, equality, and fairness enshrined in the Islamic Shari\\'ah.\\n\\nTherefore, if you are considering getting married, you should first reflect on your personal circumstances, financial situation, and ability to treat all potential wives equally and justly without causing any infringement of their rights. If you are unsure about any aspect of this matter, you should seek the advice and guidance of a qualified Islamic scholar or religious leader in your community or locality.'"
      ]
     },
     "execution_count": 2,
     "metadata": {},
     "output_type": "execute_result"
    }
   ],
   "source": [
    "from langserve.client import RemoteRunnable\n",
    "\n",
    "# Change this to the address:port of your RAG server\n",
    "rag_app = RemoteRunnable(\"http://127.0.0.1:8008/chat\")\n",
    "rag_app.invoke(\"How much wifes can i have?\")"
   ]
  },
  {
   "cell_type": "code",
   "execution_count": null,
   "id": "380f66df",
   "metadata": {},
   "outputs": [],
   "source": [
    "# Load test dataset from disk\n",
    "# ...\n",
    "\n",
    "# Evaluate test for loaded dataset\n",
    "# ...\n",
    "\n",
    "# Show results of test\n"
   ]
  },
  {
   "cell_type": "code",
   "execution_count": null,
   "id": "e43c9c5d",
   "metadata": {},
   "outputs": [],
   "source": [
    "# get a token: https://platform.openai.com/account/api-keys\n",
    "\n",
    "from getpass import getpass\n",
    "import os\n",
    "\n",
    "OPENAI_API_KEY = getpass()\n",
    "\n",
    "\n",
    "os.environ[\"OPENAI_API_KEY\"] = OPENAI_API_KEY"
   ]
  }
 ],
 "metadata": {
  "kernelspec": {
   "display_name": "Python 3 (ipykernel)",
   "language": "python",
   "name": "python3"
  },
  "language_info": {
   "codemirror_mode": {
    "name": "ipython",
    "version": 3
   },
   "file_extension": ".py",
   "mimetype": "text/x-python",
   "name": "python",
   "nbconvert_exporter": "python",
   "pygments_lexer": "ipython3",
   "version": "3.11.9"
  }
 },
 "nbformat": 4,
 "nbformat_minor": 5
}
