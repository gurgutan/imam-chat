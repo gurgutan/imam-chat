{
 "cells": [
  {
   "cell_type": "code",
   "execution_count": null,
   "id": "ce39d358-1934-4404-bd3e-3fd497974aff",
   "metadata": {},
   "outputs": [],
   "source": [
    "from langserve.client import RemoteRunnable\n",
    "\n",
    "rag_app = RemoteRunnable(\"http://127.0.0.1:8008/chat\")\n",
    "rag_app.invoke(\"How much wifes can i have?\")"
   ]
  },
  {
   "cell_type": "code",
   "execution_count": null,
   "id": "b1b67013",
   "metadata": {},
   "outputs": [],
   "source": [
    "from rag_local.prompts import MuslimImamPrompt\n",
    "\n",
    "prompt = MuslimImamPrompt().build()\n",
    "print(prompt.pretty_repr())"
   ]
  },
  {
   "cell_type": "code",
   "execution_count": null,
   "id": "efc034fe",
   "metadata": {},
   "outputs": [],
   "source": [
    "\n",
    "from langchain_community.document_loaders import TextLoader\n",
    "from langchain_community.vectorstores import FAISS\n",
    "from langchain_openai import OpenAIEmbeddings\n",
    "from langchain_text_splitters import CharacterTextSplitter\n",
    "from langchain_community.embeddings import GPT4AllEmbeddings\n",
    "from langchain_community.embeddings.huggingface import (\n",
    "    HuggingFaceEmbeddings,\n",
    "    HuggingFaceBgeEmbeddings,\n",
    ")\n",
    "from rag_local.embeddings import HuggingFaceBgeEmbeddingsComponent\n",
    "\n",
    "model_name = \"BAAI/bge-small-en-v1.5\"\n",
    "model_kwargs  = {\"device\": \"cpu\", \"trust_remote_code\": True}\n",
    "embeddings = HuggingFaceBgeEmbeddingsComponent().build(\n",
    "            model_name=model_name,\n",
    "            model_kwargs=model_kwargs,\n",
    "        )\n",
    "\n",
    "loader = TextLoader(\"quran_test.md\")\n",
    "documents = loader.load()[:4]\n",
    "\n",
    "text_splitter = CharacterTextSplitter(chunk_size=1000, chunk_overlap=100)\n",
    "docs = text_splitter.split_documents(documents)\n",
    "# embeddings = OpenAIEmbeddings()\n",
    "db = FAISS.from_documents(docs, embeddings)\n",
    "print(db.index.ntotal)"
   ]
  },
  {
   "cell_type": "code",
   "execution_count": null,
   "id": "2c732a0d",
   "metadata": {},
   "outputs": [],
   "source": [
    "query = \"What did the president say about Ketanji Brown Jackson\"\n",
    "docs = db.similarity_search(query)\n",
    "# docs = db.similarity_search_with_score(query)\n",
    "docs"
   ]
  },
  {
   "cell_type": "code",
   "execution_count": 30,
   "id": "c57bf2ea",
   "metadata": {},
   "outputs": [],
   "source": [
    "from rag_local.prompts import MuslimImamPrompt, QuestionAnswerPrompt\n",
    "from rag_local.chain_custom import ChainBuilder\n",
    "\n",
    "prompt = QuestionAnswerPrompt().build()\n"
   ]
  },
  {
   "cell_type": "code",
   "execution_count": 31,
   "id": "081204d3",
   "metadata": {},
   "outputs": [],
   "source": [
    "def retrieve_docs(query: str):\n",
    "    pairs = db.similarity_search_with_score(query)\n",
    "    docs, scores = zip(*pairs)\n",
    "    return pairs"
   ]
  },
  {
   "cell_type": "code",
   "execution_count": 32,
   "id": "8c230458",
   "metadata": {},
   "outputs": [
    {
     "name": "stderr",
     "output_type": "stream",
     "text": [
      "Batches: 100%|██████████| 1/1 [00:00<00:00, 30.30it/s]\n"
     ]
    },
    {
     "data": {
      "text/plain": [
       "[(Document(page_content='# 1707', metadata={'source': 'quran_test.md'}),\n",
       "  0.8419801),\n",
       " (Document(page_content='# 666', metadata={'source': 'quran_test.md'}),\n",
       "  0.87291646),\n",
       " (Document(page_content='# 4208', metadata={'source': 'quran_test.md'}),\n",
       "  0.8837631),\n",
       " (Document(page_content='# 1708', metadata={'source': 'quran_test.md'}),\n",
       "  0.8892559)]"
      ]
     },
     "execution_count": 32,
     "metadata": {},
     "output_type": "execute_result"
    }
   ],
   "source": [
    "import json\n",
    "\n",
    "\n",
    "json.dumps(retrieve_docs(query), ensure_ascii=False)"
   ]
  },
  {
   "cell_type": "code",
   "execution_count": null,
   "id": "724f5ad5",
   "metadata": {},
   "outputs": [],
   "source": [
    "from pprint import pprint\n",
    "from langchain_core.runnables import (\n",
    "    RunnableParallel,\n",
    "    RunnablePassthrough,\n",
    "    RunnableLambda,\n",
    ")\n",
    "\n",
    "from rag_local.utils import first\n",
    "\n",
    "prompt = QuestionAnswerPrompt().build()\n",
    "docs_with_scores = RunnableLambda(retrieve_docs)\n",
    "rag_chain = (\n",
    "        RunnableParallel({\"context\": docs_with_scores, \"question\": RunnablePassthrough()})\n",
    "        | prompt\n",
    "    )\n",
    "\n",
    "pprint(rag_chain.invoke(\"How much wifes can i have?\"))"
   ]
  }
 ],
 "metadata": {
  "kernelspec": {
   "display_name": "Python 3 (ipykernel)",
   "language": "python",
   "name": "python3"
  },
  "language_info": {
   "codemirror_mode": {
    "name": "ipython",
    "version": 3
   },
   "file_extension": ".py",
   "mimetype": "text/x-python",
   "name": "python",
   "nbconvert_exporter": "python",
   "pygments_lexer": "ipython3",
   "version": "3.11.9"
  }
 },
 "nbformat": 4,
 "nbformat_minor": 5
}
