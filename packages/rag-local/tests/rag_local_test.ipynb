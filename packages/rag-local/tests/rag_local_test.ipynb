{
 "cells": [
  {
   "cell_type": "code",
   "execution_count": null,
   "id": "ce39d358-1934-4404-bd3e-3fd497974aff",
   "metadata": {},
   "outputs": [],
   "source": [
    "from langserve.client import RemoteRunnable\n",
    "\n",
    "rag_app = RemoteRunnable(\"http://127.0.0.1:8008/chat\")\n",
    "rag_app.invoke(\"How much wifes can i have?\")"
   ]
  },
  {
   "cell_type": "code",
   "execution_count": 7,
   "id": "b1b67013",
   "metadata": {},
   "outputs": [
    {
     "name": "stdout",
     "output_type": "stream",
     "text": [
      "================================ Human Message =================================\n",
      "\n",
      "Act as a Muslim imam who gives me guidance and advice on how to deal with life problems. Use your knowledge of the Quran, The Teachings of Muhammad the prophet (peace be upon him), The Hadith, and the Sunnah to answer my questions. Include these source quotes/arguments in the Arabic and English Languages. \n",
      "    Answer the question based only on the following context:\n",
      "    \n",
      "        {context}\n",
      "\n",
      "        Question: {question}\n",
      "        \n",
      "        Answer: \n"
     ]
    }
   ],
   "source": [
    "from rag_local.prompts import MuslimImamPrompt\n",
    "\n",
    "prompt = MuslimImamPrompt().build()\n",
    "print(prompt.pretty_repr())"
   ]
  },
  {
   "cell_type": "code",
   "execution_count": 1,
   "id": "9d60740b",
   "metadata": {},
   "outputs": [
    {
     "data": {
      "text/plain": [
       "'1'"
      ]
     },
     "execution_count": 1,
     "metadata": {},
     "output_type": "execute_result"
    }
   ],
   "source": [
    "def add_value(r: dict, value):\n",
    "    r[\"value\"] = value\n",
    "    return value\n",
    "\n",
    "record = {}\n",
    "a = lambda input: add_value(record, input)\n",
    "\n",
    "a(\"1\")"
   ]
  },
  {
   "cell_type": "code",
   "execution_count": 2,
   "id": "efc034fe",
   "metadata": {},
   "outputs": [
    {
     "data": {
      "text/plain": [
       "{'value': '1'}"
      ]
     },
     "execution_count": 2,
     "metadata": {},
     "output_type": "execute_result"
    }
   ],
   "source": [
    "record"
   ]
  }
 ],
 "metadata": {
  "kernelspec": {
   "display_name": "Python 3 (ipykernel)",
   "language": "python",
   "name": "python3"
  },
  "language_info": {
   "codemirror_mode": {
    "name": "ipython",
    "version": 3
   },
   "file_extension": ".py",
   "mimetype": "text/x-python",
   "name": "python",
   "nbconvert_exporter": "python",
   "pygments_lexer": "ipython3",
   "version": "3.11.9"
  }
 },
 "nbformat": 4,
 "nbformat_minor": 5
}
